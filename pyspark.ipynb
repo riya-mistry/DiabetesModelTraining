{
  "cells": [
    {
      "metadata": {
        "trusted": true
      },
      "cell_type": "code",
      "source": "#SparkContext\nfrom pyspark import SparkContext\nsc = SparkContext('local','firstapp')\nprint(sc)\nprint(sc.version)",
      "execution_count": 1,
      "outputs": [
        {
          "output_type": "stream",
          "text": "<SparkContext master=local appName=firstapp>\n2.4.4\n",
          "name": "stdout"
        }
      ]
    },
    {
      "metadata": {
        "trusted": true
      },
      "cell_type": "code",
      "source": "from pyspark.sql import SparkSession\nmy_spark = SparkSession.builder.getOrCreate()\nprint(my_spark)",
      "execution_count": 2,
      "outputs": [
        {
          "output_type": "stream",
          "text": "<pyspark.sql.session.SparkSession object at 0x7f3ece6d1d68>\n",
          "name": "stdout"
        }
      ]
    },
    {
      "metadata": {
        "trusted": true
      },
      "cell_type": "code",
      "source": "my_spark.catalog.listTables()",
      "execution_count": 3,
      "outputs": [
        {
          "output_type": "execute_result",
          "execution_count": 3,
          "data": {
            "text/plain": "[]"
          },
          "metadata": {}
        }
      ]
    },
    {
      "metadata": {
        "trusted": true
      },
      "cell_type": "code",
      "source": "\n# Don't change this file path\nfile_path = \"clean_diabetes.csv\"\n\n# Read in the diabetes data\ndiabetes = my_spark.read.csv(file_path,header=True)\n\n# Show the data\nprint(diabetes.show())",
      "execution_count": 4,
      "outputs": [
        {
          "output_type": "stream",
          "text": "+-------+----+---+-------+\n|Glucose| BMI|Age|Outcome|\n+-------+----+---+-------+\n|    148|33.6| 50|      1|\n|     85|26.6| 31|      0|\n|    183|23.3| 32|      1|\n|     89|28.1| 21|      0|\n|    137|43.1| 33|      1|\n|    116|25.6| 30|      0|\n|     78|31.0| 26|      1|\n|    115|35.3| 29|      0|\n|    197|30.5| 53|      1|\n|    110|37.6| 30|      0|\n|    168|38.0| 34|      1|\n|    139|27.1| 57|      0|\n|    189|30.1| 59|      1|\n|    166|25.8| 51|      1|\n|    100|30.0| 32|      1|\n|    118|45.8| 31|      1|\n|    107|29.6| 31|      1|\n|    103|43.3| 33|      0|\n|    115|34.6| 32|      1|\n|    126|39.3| 27|      0|\n+-------+----+---+-------+\nonly showing top 20 rows\n\nNone\n",
          "name": "stdout"
        }
      ]
    },
    {
      "metadata": {
        "trusted": true
      },
      "cell_type": "code",
      "source": "diabetes.createOrReplaceTempView('Diabetes')",
      "execution_count": 5,
      "outputs": []
    },
    {
      "metadata": {
        "trusted": true
      },
      "cell_type": "code",
      "source": "my_spark.catalog.listTables()",
      "execution_count": 6,
      "outputs": [
        {
          "output_type": "execute_result",
          "execution_count": 6,
          "data": {
            "text/plain": "[Table(name='diabetes', database=None, description=None, tableType='TEMPORARY', isTemporary=True)]"
          },
          "metadata": {}
        }
      ]
    },
    {
      "metadata": {
        "trusted": true
      },
      "cell_type": "code",
      "source": "diabetes.show()",
      "execution_count": 7,
      "outputs": [
        {
          "output_type": "stream",
          "text": "+-------+----+---+-------+\n|Glucose| BMI|Age|Outcome|\n+-------+----+---+-------+\n|    148|33.6| 50|      1|\n|     85|26.6| 31|      0|\n|    183|23.3| 32|      1|\n|     89|28.1| 21|      0|\n|    137|43.1| 33|      1|\n|    116|25.6| 30|      0|\n|     78|31.0| 26|      1|\n|    115|35.3| 29|      0|\n|    197|30.5| 53|      1|\n|    110|37.6| 30|      0|\n|    168|38.0| 34|      1|\n|    139|27.1| 57|      0|\n|    189|30.1| 59|      1|\n|    166|25.8| 51|      1|\n|    100|30.0| 32|      1|\n|    118|45.8| 31|      1|\n|    107|29.6| 31|      1|\n|    103|43.3| 33|      0|\n|    115|34.6| 32|      1|\n|    126|39.3| 27|      0|\n+-------+----+---+-------+\nonly showing top 20 rows\n\n",
          "name": "stdout"
        }
      ]
    },
    {
      "metadata": {
        "trusted": true
      },
      "cell_type": "code",
      "source": "diabetes.describe()",
      "execution_count": 8,
      "outputs": [
        {
          "output_type": "execute_result",
          "execution_count": 8,
          "data": {
            "text/plain": "DataFrame[summary: string, Glucose: string, BMI: string, Age: string, Outcome: string]"
          },
          "metadata": {}
        }
      ]
    },
    {
      "metadata": {
        "trusted": true
      },
      "cell_type": "code",
      "source": "diabetes = diabetes.withColumn('Glucose',diabetes.Glucose.cast('integer'))\ndiabetes = diabetes.withColumn('BMI',diabetes.BMI.cast('double'))\ndiabetes = diabetes.withColumn('Age',diabetes.Age.cast('integer'))\ndiabetes = diabetes.withColumn('Outcome',diabetes.Outcome.cast('integer'))\ndiabetes = diabetes.withColumn('label',diabetes.Outcome)",
      "execution_count": 33,
      "outputs": []
    },
    {
      "metadata": {
        "trusted": true
      },
      "cell_type": "code",
      "source": "diabetes.describe()",
      "execution_count": 34,
      "outputs": [
        {
          "output_type": "execute_result",
          "execution_count": 34,
          "data": {
            "text/plain": "DataFrame[summary: string, Glucose: string, BMI: string, Age: string, Outcome: string, label: string]"
          },
          "metadata": {}
        }
      ]
    },
    {
      "metadata": {
        "trusted": true
      },
      "cell_type": "code",
      "source": "from pyspark.ml.feature import VectorAssembler\nvec_assembler = VectorAssembler(inputCols=['Glucose','BMI','Age'], outputCol='features')",
      "execution_count": 35,
      "outputs": []
    },
    {
      "metadata": {
        "trusted": true
      },
      "cell_type": "code",
      "source": "#stages list all the steps you want your data to go through\nfrom pyspark.ml import Pipeline\ndiabetes_pipe  = Pipeline(stages = [vec_assembler])",
      "execution_count": 36,
      "outputs": []
    },
    {
      "metadata": {
        "trusted": true
      },
      "cell_type": "code",
      "source": "piped_data = diabetes_pipe.fit(diabetes).transform(diabetes)",
      "execution_count": 37,
      "outputs": []
    },
    {
      "metadata": {
        "trusted": true
      },
      "cell_type": "code",
      "source": "train,test = piped_data.randomSplit([.6,.4])",
      "execution_count": 38,
      "outputs": []
    },
    {
      "metadata": {
        "trusted": true
      },
      "cell_type": "code",
      "source": "from pyspark.ml.classification import LogisticRegression\nlr = LogisticRegression()",
      "execution_count": 39,
      "outputs": []
    },
    {
      "metadata": {
        "trusted": true
      },
      "cell_type": "code",
      "source": "import pyspark.ml.evaluation as evals\nevaluator = evals.BinaryClassificationEvaluator(metricName='areaUnderROC')",
      "execution_count": 40,
      "outputs": []
    },
    {
      "metadata": {
        "trusted": true
      },
      "cell_type": "code",
      "source": "import pyspark.ml.tuning as tune\nimport numpy as np\ngrid = tune.ParamGridBuilder()\ngrid = grid.addGrid(lr.regParam,np.arange(0,.1,.01))\ngrid = grid.addGrid(lr.elasticNetParam,[0,1])\ngrid.build();",
      "execution_count": 41,
      "outputs": []
    },
    {
      "metadata": {
        "trusted": true
      },
      "cell_type": "code",
      "source": "cv  = tune.CrossValidator(estimator = lr,  estimatorParamMaps=grid,evaluator=evaluator)",
      "execution_count": 42,
      "outputs": []
    },
    {
      "metadata": {
        "trusted": true
      },
      "cell_type": "code",
      "source": "best_lr = lr.fit(train)\nprint(best_lr)",
      "execution_count": 43,
      "outputs": [
        {
          "output_type": "stream",
          "text": "LogisticRegressionModel: uid = LogisticRegression_5632e5065654, numClasses = 2, numFeatures = 3\n",
          "name": "stdout"
        }
      ]
    },
    {
      "metadata": {
        "trusted": true
      },
      "cell_type": "code",
      "source": "# Use the model to predict the test set\ntest_results = best_lr.transform(test)\n\n# Evaluate the predictions\nprint(evaluator.evaluate(test_results))",
      "execution_count": 44,
      "outputs": [
        {
          "output_type": "stream",
          "text": "0.7979277085422332\n",
          "name": "stdout"
        }
      ]
    },
    {
      "metadata": {
        "trusted": true
      },
      "cell_type": "code",
      "source": "",
      "execution_count": null,
      "outputs": []
    }
  ],
  "metadata": {
    "kernelspec": {
      "name": "python36",
      "display_name": "Python 3.6",
      "language": "python"
    },
    "language_info": {
      "mimetype": "text/x-python",
      "nbconvert_exporter": "python",
      "name": "python",
      "pygments_lexer": "ipython3",
      "version": "3.6.6",
      "file_extension": ".py",
      "codemirror_mode": {
        "version": 3,
        "name": "ipython"
      }
    }
  },
  "nbformat": 4,
  "nbformat_minor": 2
}
